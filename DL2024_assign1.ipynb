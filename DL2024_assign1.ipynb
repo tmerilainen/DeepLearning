{
 "cells": [
  {
   "cell_type": "markdown",
   "metadata": {},
   "source": [
    "# Deep Learning 2024 - Assignment 1\n",
    "\n",
    "Designed by Marko Savic (marko.savic@oulu.fi)\n",
    "\n"
   ]
  },
  {
   "cell_type": "markdown",
   "metadata": {},
   "source": [
    "## Outline (10 points)\n",
    "#### Submission:\n",
    "We will give 2 weeks for each assignment and more for the final project.\n",
    "\n",
    "The grades will be released after the deadline. Please also put your name and student number (if you have one) in the file name of the returned assignments. (DL2024_assign1_NAME_SURNAME_STUDENTNUMBER.ipynb)\n",
    "\n",
    "#### In this assignment, you will learn:\n",
    "* How to load data and create a train/test split\n",
    "* How to build your own Pytorch model for simple linear regression problem on the generated data.\n",
    "* Training the model with gradient descent algorithm in Pytorch.\n",
    "* Simple visualisation of data, loss and linear model\n",
    "\n",
    "#### Tasks (10 points):\n",
    "* Part 1. Load dataset and split into training and testing sets (1.5 points)\n",
    "* Part 2.1 Model (1.5 points)\n",
    "* Part 2.2 Training (7 points)\n",
    "\n",
    "#### Environment\n",
    "Python 3 + Pytorch (>=1.3).<br>\n",
    "Other libraries should be installed correctly such as numpy, matplotlib, *etc*., according to the dependencies of the assignment. <br>\n",
    "If you haven’t installed Pytorch and Jupyter notebook in your computer, an alternative environment to finish the assignment is CSC notebook: [`https://noppe.2.rahtiapp.fi/`](https://noppe.2.rahtiapp.fi/) -> log in with HaKa using your university account -> Jupyter Machine Learning. \n",
    "Also, googlecolab is available through your google university account (instruction in https://www.oulu.fi/en/for-students/supporting-your-studies-and-contact-information-for-students/it-services-for-students/google-workspace-for-education). Computer room TS135 contains computers with GPUs that you can utilise as well.\n",
    "\n",
    "We will give 2 weeks for each assignment and more for the final project. So it may happen where the new assignment is published before the deadline of the previous assignment. Please do not wait till the last minute to complete the assigments, as they can be time consuming. \n",
    "\n",
    "#### Database\n",
    "* Advertising dataset\n",
    "\n",
    "#### Hints\n",
    "* To find the place where you have to insert your solution, hit Crtl + F and search for **TODO:** . You are not supposed to modify the code from other parts.\n",
    "* Be careful with the shape of the weights, gradient, .. of your tensor in your implementation. Double check and make sure the shapes fit for computation, especially matrix multiplication.\n",
    "* Use only torch functions for the model, and avoid iterations. E.g. if you put a for cycle in the model function then parallelism is gone and your model will not run efficiently on GPUs. Also once you have the data loaded as tensors, you need to use torch functions, if you convert to numpy arrays in the training loop then it will not train efficiently.\n",
    "* Check the examples from the pytorch tutorial lecture, they can help understand the assignment better."
   ]
  },
  {
   "cell_type": "markdown",
   "metadata": {},
   "source": [
    "## Part 1. Load dataset and split into training and testing sets \n",
    "\n",
    "Suppose we observe a set of n real-valued input variables x = $\\{x_n\\}$ and wish to use this observation to predict \n",
    "the value of a real-valued target variable $y$. In the tutorial we considered artifical examples with synthetic data. In this exercise we will consider a simple dataset that is suitable for linear regression. \n",
    "\n",
    "We will take a small advertisement dataset. It contains data on the budget allocated for TV, radio and newspaper advertisements with the resulting sales. It contains n = 200 samples with three variables \"TV\", \"Radio\",\"Newspaper\" and the value we want to predict, that is \"Sales\". Assuming a linear model is a good representation of the correlation between advertisement budgets and final sales, we will try to train a linear model to regress the sales based on advertisement budget.\n",
    "\n",
    "The dataset is located in the advertisement .csv file and opened as a pandas Dataframe. Firstly we will turn the input variables and regression target into Tensors, and then split the data into training and testing sets. In this case we choose a five fold split, meaning we will use 20% of the data for testing (last 40 samples) and 80% for training (first 160 samples).\n",
    "\n",
    "Please create the required training and testing data below and plot the relationship between the feature 'TV' and the target. Since we have 3 different features, we will only pick 'TV' a 2D plot."
   ]
  },
  {
   "cell_type": "code",
   "execution_count": null,
   "metadata": {},
   "outputs": [],
   "source": [
    "!pip install onedrivedownloader\n",
    "\n",
    "from onedrivedownloader import download\n",
    "import os\n",
    "link = 'https://unioulu-my.sharepoint.com/:x:/g/personal/msavic21_univ_yo_oulu_fi/Eb211jNyQAVIhTq1HsoxQyEBEqoDNHhr606Kfh9LY5Brjw?e=cONlaG'\n",
    "\n",
    "if not os.path.exists('./data/fashion_mnist_npy'):\n",
    "    print('Downloading dataset')\n",
    "download(link, filename=\"./advertising.csv\", unzip=True, unzip_path='./')"
   ]
  },
  {
   "cell_type": "code",
   "execution_count": null,
   "metadata": {},
   "outputs": [],
   "source": [
    "import matplotlib.pyplot as plt\n",
    "import torch.nn as nn\n",
    "import torch\n",
    "import numpy as np\n",
    "import pandas as pd \n",
    "\n",
    "adv_dataset=pd.read_csv('./advertising.csv')\n",
    "adv_dataset.head()"
   ]
  },
  {
   "cell_type": "code",
   "execution_count": null,
   "metadata": {},
   "outputs": [],
   "source": [
    "# TODO: (1.5 points, details are given below): \n",
    "\n",
    "# get the relevant data from the adv_dataset dataframe and assign them to the Tensors x (feature variables) and y (target)  (0.5 point)\n",
    "x = torch.tensor(adv_dataset[['TV', 'Radio', 'Newspaper']].values, dtype=torch.float32)\n",
    "y = torch.tensor(adv_dataset['Sales'].values, dtype=torch.float32)\n",
    "\n",
    "print(x.size(),y.size())\n",
    "\n",
    "# divide the data in a train set (80% of the data) and test set (20% of the data). Resulting in x_train, x_test, y_train, y_test (0.5 point)\n",
    "x_train, x_test, = x[:160], x[160:]\n",
    "y_train, y_test = y[:160], y[160:]\n",
    "\n",
    "print(x_train.size(),y_train.size())\n",
    "print(x_test.size(),y_test.size())\n",
    "\n",
    "# plot the first feature 'TV' in relationship with the target y. Train and test data should be in a single figure with two different colors (0.5 point)\n",
    "plt.figure(figsize=(20,9))\n",
    "plt.scatter(x_train[:,0], y_train, color='blue', s=3)\n",
    "plt.scatter(x_test[:,0], y_test, color='red', s=20)\n",
    "plt.show()"
   ]
  },
  {
   "cell_type": "markdown",
   "metadata": {},
   "source": [
    "## Part 2. Solving the linear regression problem in Pytorch using Gradient Descent Algorithm\n",
    "Congratulations you have prepared the data correctly! Now we will move onto creating our model and training it. "
   ]
  },
  {
   "cell_type": "markdown",
   "metadata": {},
   "source": [
    "### 2.1 Model\n",
    "In this part, you will define your own model class. To do that, you have to remember the following rules:\n",
    "1. The model class should be inherited from [`nn.Module`](https://pytorch.org/docs/stable/generated/torch.nn.Module.html#torch.nn.Module);\n",
    "2. Re-write the **\\_\\_init\\_\\_** function and the **forward** function;\n",
    "3. In the **\\_\\_init\\_\\_** function, you should always call the parent's **\\_\\_init\\_\\_** function first.\n",
    "4. Don't use the nn.Linear() layer, implement it yourself.\n",
    "5. Use 1 tensor to define w (not 3) and 1 tensor to define b.\n",
    "6. Only torch functions and no iterations inside the model.\n",
    "\n",
    "To make it simpler, since we are using a linear function to approximate the phenomenon that generated the data, our function will be:\n",
    "\n",
    "\\begin{align*}\n",
    "y = w^T x + b \n",
    "\\end{align*}\n",
    "\n",
    "Therefore, in the model, we need to set 2 parameters: $w$, $b$"
   ]
  },
  {
   "cell_type": "code",
   "execution_count": null,
   "metadata": {},
   "outputs": [],
   "source": [
    "# TODO (1.5 points, details are given below)\n",
    "import torch.nn as nn\n",
    "\n",
    "\n",
    "# define a class (0.5) + write the __init__ function (0.5 point) + write the forward function (0.5 points)\n",
    "\n",
    "# YOUR CODE HERE\n",
    "class LinearRegressionModel(nn.Module):\n",
    "    def __init__(self):\n",
    "        super(LinearRegressionModel, self).__init__()\n",
    "        self.b = nn.Parameter(torch.zeros(1))\n",
    "        self.w = nn.Parameter(torch.zeros(3))\n",
    "\n",
    "    def forward(self, x):\n",
    "        y = torch.matmul(x, self.w) + self.b\n",
    "        return y"
   ]
  },
  {
   "cell_type": "markdown",
   "metadata": {},
   "source": [
    "### 2.2 Training\n",
    "Here, you will train your model based on the training data and evaluate the model on testing data.\n",
    "1. Set proper number of iterations and learning rate.\n",
    "2. Remember to use a proper optimizer (you may have many choices: Adam, SGD, RMSprop, ... please find the detailed information in https://pytorch.org/docs/stable/optim.html and know how to use them).\n",
    "3. In order to train the model, a loss function should be defined:\n",
    "\\begin{align*}\n",
    "loss = \\frac{1}{N}\\sum_{i=1}^{N}|f_i - y_i|,\n",
    "\\end{align*}\n",
    "where, $f_i$ is the output of the model and $N$ is the number of training data pairs.\n",
    "4. The model must be trained only using training data.\n",
    "5. Remember to clear the old gradients of parameters before a new backward propagation.\n",
    "6. In every certain number of iterations, print the values of the parameters, the training loss, and the testing loss.\n",
    "7. Meanwhile, please track the training loss and the testing loss in each iteration. Once the training is done, the curves of losses should be plotted (two curves are drawn in the same figure, where x axis indicates iterations and y axis indicates the losses).\n",
    "8. Lastly, draw all the training data, testing data and the curve of the trained model in the same figure (use different showing styles to distinguish them)."
   ]
  },
  {
   "cell_type": "code",
   "execution_count": null,
   "metadata": {},
   "outputs": [],
   "source": [
    "# TODO (7 points, details are given below)\n",
    "\n",
    "# Make a instance of the model class (0.5 point)\n",
    "# YOUR CODE HERE \n",
    "model = LinearRegressionModel()\n",
    "\n",
    "# create an optimizer, set a workable learing rate (1 point)\n",
    "# YOUR CODE HERE\n",
    "learning_rate = 0.001\n",
    "optimizer = torch.optim.Adam(model.parameters(), lr=learning_rate)\n",
    "\n",
    "training_losses = []\n",
    "testing_losses = []\n",
    "\n",
    "n_itr = 10000\n",
    "\n",
    "def calculate_loss(output, target):\n",
    "    return torch.mean(torch.abs(output - target))\n",
    "\n",
    "for i in range(n_itr):\n",
    "\n",
    "    # Train\n",
    "    # forward propagation \n",
    "    model.train() # change model to train mode\n",
    "    \n",
    "    # calculate the output of model (0.5 point)\n",
    "    # YOUR CODE HERE    \n",
    "    outputs = model(x_train)\n",
    "    \n",
    "    # calculate loss according to the above equation (1 point)\n",
    "    # YOUR CODE HERE\n",
    "    loss = calculate_loss(outputs, y_train)\n",
    "    training_losses.append(loss.item())\n",
    "\n",
    "\n",
    "    # backward propagation (clear old gradients, calculate gradients of parameters, gradient descent algorithm ) (1.5 point)\n",
    "    # YOUR CODE HERE \n",
    "    optimizer.zero_grad()\n",
    "    loss.backward()\n",
    "    optimizer.step()\n",
    "    \n",
    "    # Evaluate, calculate the testing loss (1 point)\n",
    "    model.eval() # change model to eval mode\n",
    "\n",
    "    # YOUR CODE HERE\n",
    "    test_output = model(x_test)\n",
    "    test_loss = calculate_loss(test_output, y_test)\n",
    "    testing_losses.append(test_loss.item())\n",
    "\n",
    "    # print intermediate losses for certain iterations (0.5 point)\n",
    "    if i % 100 == 1: \n",
    "        print('Iteration: %04d | Training loss: %f | Testing loss: %f' % \\\n",
    "              (i, loss.data, test_loss.data))\n",
    "    \n",
    "    "
   ]
  },
  {
   "cell_type": "code",
   "execution_count": null,
   "metadata": {},
   "outputs": [],
   "source": [
    "# plot the training losses and testing losses (0.5 point)\n",
    "# YOUR CODE HERE\n",
    "plt.figure(figsize=(10,6))\n",
    "plt.plot(training_losses, label='Train loss')\n",
    "plt.plot(testing_losses, label='Test Loss')\n",
    "plt.legend()\n",
    "plt.show()"
   ]
  },
  {
   "cell_type": "code",
   "execution_count": null,
   "metadata": {},
   "outputs": [],
   "source": [
    "# As our model contains a 3 dimensionsional input, we will only plot the relationship between the first variable 'tv' and the target.\n",
    "# Again plot the train and test data (from Part1), and add a line where the slope and axis intercept are taken from the model parameters w and b\n",
    "# (0.5 point)\n",
    "\n",
    "# YOUR CODE HERE\n",
    "plt.figure(figsize=(20,9))\n",
    "plt.scatter(x_train[:,0], y_train, color='blue', s=3)\n",
    "plt.scatter(x_test[:,0], y_test, color='red', s=20)\n",
    "plt.plot(x_train[:,0], model.w[0].item()*x_train[:,0] + model.b.item())\n",
    "plt.show()"
   ]
  }
 ],
 "metadata": {
  "kernelspec": {
   "display_name": "Python 3",
   "language": "python",
   "name": "python3"
  },
  "language_info": {
   "codemirror_mode": {
    "name": "ipython",
    "version": 3
   },
   "file_extension": ".py",
   "mimetype": "text/x-python",
   "name": "python",
   "nbconvert_exporter": "python",
   "pygments_lexer": "ipython3",
   "version": "3.10.0"
  }
 },
 "nbformat": 4,
 "nbformat_minor": 4
}
